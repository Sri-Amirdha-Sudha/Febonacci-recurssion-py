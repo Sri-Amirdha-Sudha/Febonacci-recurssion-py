{
 "cells": [
  {
   "cell_type": "markdown",
   "metadata": {},
   "source": [
    "#### Asigning different valus to the list"
   ]
  },
  {
   "cell_type": "code",
   "execution_count": 1,
   "metadata": {},
   "outputs": [
    {
     "name": "stdout",
     "output_type": "stream",
     "text": [
      "Enter value for the list/ end to stop giving inputs: 2hwllo\n",
      "Enter value for the list/ end to stop giving inputs: 4\n",
      "Enter value for the list/ end to stop giving inputs: fine\n",
      "Enter value for the list/ end to stop giving inputs: 9\n",
      "Enter value for the list/ end to stop giving inputs: water\n",
      "Enter value for the list/ end to stop giving inputs: end\n",
      "Numbers in entered values:  ['4', '9']\n",
      "Strings in entered values:  ['2hwllo', 'fine', 'water']\n"
     ]
    }
   ],
   "source": [
    "# Create 2 lists one for storing numbers,other for storing charaters\n",
    "flag=True\n",
    "number=[]#creating empty list for storing numbers\n",
    "character=[]#creating empty lists for storing string/charecters\n",
    "while flag:\n",
    "    value=input(\"Enter value for the list/ end to stop giving inputs: \")\n",
    "    if value == \"end\":\n",
    "        flag= False #loop terminate, end of input\n",
    "    elif value.isdigit():\n",
    "        number.append(value) #adds the value into the number list\n",
    "    else:\n",
    "        character.append(value) #adds the string into the character list\n",
    "        \n",
    "print(\"Numbers in entered values: \", number)\n",
    "print(\"Strings in entered values: \",character)"
   ]
  },
  {
   "cell_type": "markdown",
   "metadata": {},
   "source": [
    "#### Accessing values from tuple"
   ]
  },
  {
   "cell_type": "code",
   "execution_count": 2,
   "metadata": {},
   "outputs": [
    {
     "name": "stdout",
     "output_type": "stream",
     "text": [
      "Enter value for the list/ end to stop giving inputs: welcome \n",
      "Enter value for the list/ end to stop giving inputs: to \n",
      "Enter value for the list/ end to stop giving inputs: anaconda \n",
      "Enter value for the list/ end to stop giving inputs: distributer \n",
      "Enter value for the list/ end to stop giving inputs: JupiterNotebook \n",
      "Enter value for the list/ end to stop giving inputs: end\n",
      "\n",
      "Access the elements of tuple and print them index+1 number of times :-\n",
      "welcome \n",
      "to to \n",
      "anaconda anaconda anaconda \n",
      "distributer distributer distributer distributer \n",
      "JupiterNotebook JupiterNotebook JupiterNotebook JupiterNotebook JupiterNotebook \n"
     ]
    }
   ],
   "source": [
    "#since tuple is immutable, getting user input as list\n",
    "lis=[]\n",
    "flag=True\n",
    "while flag:\n",
    "    value=input(\"Enter value for the list/ end to stop giving inputs: \")\n",
    "    if value == \"end\":\n",
    "        flag= False #loop terminate, end of input\n",
    "    else:\n",
    "        lis.append(value)\n",
    "tup=tuple(lis) #convert the list to tuple\n",
    "print(\"\\nAccess the elements of tuple and print them index+1 number of times :-\")\n",
    "for i in range(len(tup)):\n",
    "    print(tup[i]*(i+1)) # tup[i] access the elements in the correpondind position (i.e) for the value of i"
   ]
  },
  {
   "cell_type": "markdown",
   "metadata": {},
   "source": [
    "#### deleting dictionary elements"
   ]
  },
  {
   "cell_type": "code",
   "execution_count": 4,
   "metadata": {},
   "outputs": [
    {
     "name": "stdout",
     "output_type": "stream",
     "text": [
      "how many elements in dictionary you want: 5\n",
      "Enter key: 1\n",
      "Enter value: 11\n",
      "Enter key: 2\n",
      "Enter value: 22\n",
      "Enter key: 3\n",
      "Enter value: 33\n",
      "Enter key: 4\n",
      "Enter value: 44\n",
      "Enter key: 5\n",
      "Enter value: 55\n",
      "original dictionary {'1': '11', '2': '22', '3': '33', '4': '44', '5': '55'}\n",
      "\n",
      "CHOICES: \n",
      "1)Delete last element \n",
      "2)Delete element with prticular key \n",
      "3)clear all the elements in the dictionary\n",
      "4)Exit\n",
      "Enter your choice: \n",
      "Enter a choice: 4\n",
      "The deleting spree stops\n"
     ]
    }
   ],
   "source": [
    "# deleting elements of dictionary\n",
    "d={} #empty dictionary\n",
    "n=int(input(\"how many elements in dictionary you want: \"))\n",
    "for i in range(n):\n",
    "    key=input(\"Enter key: \")\n",
    "    d[key]=input(\"Enter value: \")# getting dictionary values in runtime\n",
    "print(\"original dictionary\",d)\n",
    "print(\"\\nCHOICES: \\n1)Delete last element \\n2)Delete element with prticular key \\n3)clear all the elements in the dictionary\\n4)Exit\\nEnter your choice: \")\n",
    "while True:\n",
    "    choice=int(input(\"Enter a choice: \"))\n",
    "    if choice==1:\n",
    "        d.popitem()\n",
    "        print(d)\n",
    "    elif choice==2:\n",
    "        k=input(\"Enter the key you want to delete: \")\n",
    "        if k in d.keys():\n",
    "            d.pop(k)#delets this key-value pair\n",
    "            print(d)\n",
    "        else:\n",
    "            print(\"key not found\")\n",
    "    elif choice==3:\n",
    "        d.clear()\n",
    "        print(\"Empty dictionary\",d)\n",
    "        print(\"No elements in dictionary, end of process\")\n",
    "        break\n",
    "    elif choice==4:\n",
    "        print(\"The deleting spree stops\")\n",
    "        break #breaks the loop\n",
    "    else:\n",
    "        print(\"Sorry wrong option, please choose 1/2/3/4\")"
   ]
  },
  {
   "cell_type": "code",
   "execution_count": null,
   "metadata": {},
   "outputs": [],
   "source": []
  }
 ],
 "metadata": {
  "kernelspec": {
   "display_name": "Python 3",
   "language": "python",
   "name": "python3"
  },
  "language_info": {
   "codemirror_mode": {
    "name": "ipython",
    "version": 3
   },
   "file_extension": ".py",
   "mimetype": "text/x-python",
   "name": "python",
   "nbconvert_exporter": "python",
   "pygments_lexer": "ipython3",
   "version": "3.7.4"
  }
 },
 "nbformat": 4,
 "nbformat_minor": 2
}
